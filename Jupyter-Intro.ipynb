{
 "cells": [
  {
   "cell_type": "markdown",
   "id": "analyzed-venture",
   "metadata": {},
   "source": [
    "# Introduktion till Jupyter\n",
    "## Celler\n",
    "En cell i Jupyter kan bestå av text (i form av markdown) eller kod.\n",
    "\n",
    "En kodcell kan köras och vi kan se resultatet direkt under cellen."
   ]
  },
  {
   "cell_type": "code",
   "execution_count": 1,
   "id": "center-excess",
   "metadata": {},
   "outputs": [
    {
     "name": "stdout",
     "output_type": "stream",
     "text": [
      "400\n"
     ]
    }
   ],
   "source": [
    "x = 10\n",
    "y = 40\n",
    "print(x*y)"
   ]
  },
  {
   "cell_type": "markdown",
   "id": "living-speed",
   "metadata": {},
   "source": [
    "Markera cellen ovan och tryck på run"
   ]
  },
  {
   "cell_type": "markdown",
   "id": "baking-aurora",
   "metadata": {},
   "source": [
    "> För grunderna i markdown kolla denna [länk](https://www.markdownguide.org/basic-syntax/)"
   ]
  },
  {
   "cell_type": "markdown",
   "id": "unexpected-federation",
   "metadata": {},
   "source": [
    "## Import\n",
    "Du kan importera python-bibliotek precis som vanligt med import.\n",
    "\n",
    "Det som importeras i en en cell som redan körts kan användas i alla efterkommande celler"
   ]
  },
  {
   "cell_type": "code",
   "execution_count": 3,
   "id": "another-student",
   "metadata": {},
   "outputs": [],
   "source": [
    "from math import sqrt"
   ]
  },
  {
   "cell_type": "code",
   "execution_count": 4,
   "id": "jewish-touch",
   "metadata": {},
   "outputs": [
    {
     "name": "stdout",
     "output_type": "stream",
     "text": [
      "4.0\n"
     ]
    }
   ],
   "source": [
    "print(sqrt(16))"
   ]
  },
  {
   "cell_type": "markdown",
   "id": "applied-tournament",
   "metadata": {},
   "source": [
    "Detta gäller även variabler. En variabel som deklarerats och fått ett värde i en cell som redan körts kan användas i efterkommande celler och den kommer du att ha kvar sitt tidigare värde."
   ]
  },
  {
   "cell_type": "code",
   "execution_count": 5,
   "id": "traditional-processing",
   "metadata": {},
   "outputs": [],
   "source": [
    "name = 'Bob'"
   ]
  },
  {
   "cell_type": "code",
   "execution_count": 6,
   "id": "destroyed-merchant",
   "metadata": {},
   "outputs": [
    {
     "name": "stdout",
     "output_type": "stream",
     "text": [
      "Bob\n"
     ]
    }
   ],
   "source": [
    "print(name)"
   ]
  },
  {
   "cell_type": "code",
   "execution_count": 7,
   "id": "elder-hardwood",
   "metadata": {},
   "outputs": [],
   "source": [
    "name += ' Jones'"
   ]
  },
  {
   "cell_type": "code",
   "execution_count": 8,
   "id": "private-cannon",
   "metadata": {},
   "outputs": [
    {
     "name": "stdout",
     "output_type": "stream",
     "text": [
      "Bob Jones\n"
     ]
    }
   ],
   "source": [
    "print(name)"
   ]
  },
  {
   "cell_type": "markdown",
   "id": "actual-prospect",
   "metadata": {},
   "source": [
    "### Installera tredjeparts bibliotek med pip"
   ]
  },
  {
   "cell_type": "markdown",
   "id": "fossil-south",
   "metadata": {},
   "source": [
    "Du kan installera ett tredjepartsbibliotek ifrån en Jupytercell med pip. Det kräver dock ett extra steg."
   ]
  },
  {
   "cell_type": "code",
   "execution_count": 9,
   "id": "appointed-notion",
   "metadata": {},
   "outputs": [
    {
     "name": "stdout",
     "output_type": "stream",
     "text": [
      "Collecting requests\n",
      "  Using cached requests-2.25.1-py2.py3-none-any.whl (61 kB)\n",
      "Collecting idna<3,>=2.5\n",
      "  Using cached idna-2.10-py2.py3-none-any.whl (58 kB)\n",
      "Collecting urllib3<1.27,>=1.21.1\n",
      "  Using cached urllib3-1.26.3-py2.py3-none-any.whl (137 kB)\n",
      "Collecting chardet<5,>=3.0.2\n",
      "  Using cached chardet-4.0.0-py2.py3-none-any.whl (178 kB)\n",
      "Requirement already satisfied: certifi>=2017.4.17 in c:\\users\\joaki\\anaconda3\\envs\\conda-env\\lib\\site-packages (from requests) (2020.12.5)\n",
      "Installing collected packages: urllib3, idna, chardet, requests\n",
      "Successfully installed chardet-4.0.0 idna-2.10 requests-2.25.1 urllib3-1.26.3\n"
     ]
    }
   ],
   "source": [
    "import sys\n",
    "!{sys.executable} -m pip install requests"
   ]
  },
  {
   "cell_type": "code",
   "execution_count": 15,
   "id": "false-bargain",
   "metadata": {},
   "outputs": [
    {
     "name": "stdout",
     "output_type": "stream",
     "text": [
      "Startsidan - KYH\n"
     ]
    }
   ],
   "source": [
    "import re\n",
    "import requests\n",
    "\n",
    "result = requests.get('https://kyh.se')\n",
    "title = re.search('(?<=<title>).+?(?=</title>)', result.content.decode('utf-8'), re.DOTALL).group().strip()\n",
    "print(title)"
   ]
  },
  {
   "cell_type": "markdown",
   "id": "acquired-holmes",
   "metadata": {},
   "source": [
    "# Fördelar med Jupyter\n",
    "Den stora fördelen med Jupyter är att vi kan bryta upp en applikation i mindre delar och köra och modifiera dem som vi vill. Vi kan dessutom ha förklarande text mellan kodblocken som besriver vad som händer. \n",
    "\n",
    "När vi utvecklar lösningar för avancerad databearbetning och modellering är detta en stor fördel."
   ]
  },
  {
   "cell_type": "code",
   "execution_count": null,
   "id": "vertical-tyler",
   "metadata": {},
   "outputs": [],
   "source": []
  }
 ],
 "metadata": {
  "kernelspec": {
   "display_name": "Python 3",
   "language": "python",
   "name": "python3"
  },
  "language_info": {
   "codemirror_mode": {
    "name": "ipython",
    "version": 3
   },
   "file_extension": ".py",
   "mimetype": "text/x-python",
   "name": "python",
   "nbconvert_exporter": "python",
   "pygments_lexer": "ipython3",
   "version": "3.9.1"
  }
 },
 "nbformat": 4,
 "nbformat_minor": 5
}
